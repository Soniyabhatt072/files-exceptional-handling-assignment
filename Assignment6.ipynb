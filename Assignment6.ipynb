{
  "nbformat": 4,
  "nbformat_minor": 0,
  "metadata": {
    "colab": {
      "provenance": []
    },
    "kernelspec": {
      "name": "python3",
      "display_name": "Python 3"
    },
    "language_info": {
      "name": "python"
    }
  },
  "cells": [
    {
      "cell_type": "markdown",
      "source": [
        "#**Files and Exception Handling Assignment**"
      ],
      "metadata": {
        "id": "Q51KqXgjRaOD"
      }
    },
    {
      "cell_type": "markdown",
      "source": [
        "#1. Discuss the scenarios where multithreading is preferable to multiprocessing and scenarios where multiprocessing is a better choice.\n",
        "* Multithreading-\n",
        "Multithreading involves running multiple threads within a single process. Threads share memory space, making communication between them faster but potentially leading to issues like data corruption if not managed properly. It's typically favored in:\n",
        "\n",
        " - I/O-Bound Tasks:\n",
        "\n",
        "  Scenarios like reading/writing files, network requests, or database operations, where threads spend a lot of time waiting for I/O operations to complete.\n",
        "\n",
        "  Multithreading can efficiently handle waiting periods by switching between threads.\n",
        "\n",
        " - Shared Memory Requirements:\n",
        "\n",
        "  When threads need to share and work on the same data, multithreading can avoid the overhead of data duplication and interprocess communication.\n",
        "\n",
        " - Low Computational Demand:\n",
        "\n",
        "  If tasks require minimal CPU time and mostly involve I/O, multithreading minimizes the resource usage compared to the overhead of creating multiple processes.\n",
        "\n",
        " - Limited Resources:\n",
        "\n",
        "  Since threads are lightweight compared to processes, multithreading is ideal for resource-constrained environments.\n",
        "\n",
        "* Multiprocessing-\n",
        "Multiprocessing involves running multiple processes, each with its own memory space. This approach avoids memory corruption and allows tasks to run truly in parallel, especially on multicore processors. It's preferable in:\n",
        "\n",
        " - CPU-Bound Tasks:\n",
        "\n",
        "  Tasks involving heavy computations like mathematical modeling, data analysis, or simulations. Each process can utilize a separate CPU core for true parallelism.\n",
        "\n",
        " - Independent Processes:\n",
        "\n",
        "  When tasks are independent and do not need to share data, multiprocessing avoids the complexities of thread synchronization.\n",
        "\n",
        " - Memory Isolation:\n",
        "\n",
        "  If you want to avoid shared memory issues like race conditions or data corruption, multiprocessing provides isolation between processes.\n",
        "\n",
        " - Scalability:\n",
        "\n",
        "  For workloads that benefit from scaling across multiple CPU cores, multiprocessing can fully utilize available hardware."
      ],
      "metadata": {
        "id": "rEJpB1zt2QwO"
      }
    },
    {
      "cell_type": "markdown",
      "source": [
        "# 2. Describe what a process pool is and how it helps in managing multiple processes efficiently.\n",
        "A process pool is essentially a collection of pre-instantiated worker processes. Instead of creating a new process for each task, the pool maintains a fixed number of processes and assigns tasks to them as needed. This avoids the overhead associated with creating and destroying processes frequently.\n",
        "\n",
        "* Parallelism: By distributing tasks across multiple processes, a process pool enables true parallel execution, especially on multi-core machines. This is particularly useful for CPU-bound operations.\n",
        "\n",
        "* Resource Management: The pool size is fixed, which prevents spawning an excessive number of processes that could overwhelm system resources.\n",
        "\n",
        "* Reduced Overhead: Processes are reused instead of being created anew for every task. This minimizes the cost associated with process initialization and termination.\n",
        "\n",
        "* Simplified Programming: Libraries like Python's multiprocessing.Pool provide easy-to-use interfaces for managing parallel execution, reducing complexity for developers.\n",
        "*  Example-\n",
        "A process pool is perfect for scenarios like batch processing, where a large number of independent tasks (e.g., image processing, data analysis) need to be performed efficiently. Developers can define tasks, submit them to the pool, and let the pool handle task assignment and execution."
      ],
      "metadata": {
        "id": "G7OW_N9FSdRT"
      }
    },
    {
      "cell_type": "markdown",
      "source": [
        "# 3.Explain what multiprocessing is and why it is used in Python programs.\n",
        "Multiprocessing is a programming approach that allows a program to execute multiple processes simultaneously. Each process runs independently in its own memory space and can utilize a separate CPU core, making multiprocessing highly suitable for parallel execution of tasks.\n",
        "\n",
        "In Python, multiprocessing is implemented using the multiprocessing module, which provides tools to create and manage processes efficiently.\n",
        "\n",
        "* Parallelism:\n",
        "\n",
        "Python's default interpreter (CPython) has a limitation called the Global Interpreter Lock (GIL), which prevents threads from executing in true parallel fashion on multi-core processors.\n",
        "\n",
        "Multiprocessing bypasses the GIL because each process has its own interpreter and memory space, enabling true parallel execution.\n",
        "\n",
        "* Efficiency for CPU-bound tasks:\n",
        "\n",
        "If a program involves heavy computations, like mathematical operations or data analysis, multiprocessing allows these tasks to be distributed across multiple cores, speeding up execution.\n",
        "\n",
        "* Independent Processes:\n",
        "\n",
        "Processes work independently, avoiding issues like shared memory conflicts. This ensures better isolation and reliability compared to multithreading.\n",
        "\n",
        "* Scalability:\n",
        "\n",
        "Multiprocessing scales well with modern systems that have multiple CPU cores. It leverages the hardware to improve performance.\n",
        "\n",
        "* Examples of Use Case:\n",
        "Large-scale data processing.\n",
        "Running multiple simulations or models in parallel.\n",
        "Image or video processing tasks.\n",
        "Mathematical computations or algorithms."
      ],
      "metadata": {
        "id": "G8Sr2LEpBTQe"
      }
    },
    {
      "cell_type": "code",
      "source": [
        "# 4. Write a Python program using multithreading where one thread adds numbers to a list, and another\n",
        "# thread removes numbers from the list. Implement a mechanism to avoid race conditions using\n",
        "# threading.Lock.\n",
        "import threading\n",
        "import time\n",
        "\n",
        "# Shared list and lock\n",
        "shared_list = []\n",
        "list_lock = threading.Lock()\n",
        "\n",
        "# Function to add numbers to the list\n",
        "def add_numbers():\n",
        "    for i in range(10):\n",
        "        with list_lock:  # Acquire lock\n",
        "            shared_list.append(i)\n",
        "            print(f\"Added: {i}\")\n",
        "        time.sleep(0.1)  # Simulate processing time\n",
        "\n",
        "# Function to remove numbers from the list\n",
        "def remove_numbers():\n",
        "    for _ in range(10):\n",
        "        time.sleep(0.2)  # Simulate processing time\n",
        "        with list_lock:  # Acquire lock\n",
        "            if shared_list:\n",
        "                removed = shared_list.pop(0)\n",
        "                print(f\"Removed: {removed}\")\n",
        "\n",
        "# Create threads\n",
        "adder_thread = threading.Thread(target=add_numbers)\n",
        "remover_thread = threading.Thread(target=remove_numbers)\n",
        "\n",
        "# Start threads\n",
        "adder_thread.start()\n",
        "remover_thread.start()\n",
        "\n",
        "# Wait for threads to finish\n",
        "adder_thread.join()\n",
        "remover_thread.join()\n",
        "\n",
        "print(\"Final list:\", shared_list)"
      ],
      "metadata": {
        "id": "gFIgl6WhSJ4T",
        "colab": {
          "base_uri": "https://localhost:8080/"
        },
        "outputId": "fd898bfa-2458-4438-d0fa-22560b625bbd"
      },
      "execution_count": null,
      "outputs": [
        {
          "output_type": "stream",
          "name": "stdout",
          "text": [
            "Added: 0\n",
            "Added: 1\n",
            "Added: 2\n",
            "Removed: 0\n",
            "Added: 3\n",
            "Removed: 1\n",
            "Added: 4\n",
            "Added: 5\n",
            "Removed: 2\n",
            "Added: 6\n",
            "Added: 7\n",
            "Removed: 3\n",
            "Added: 8\n",
            "Added: 9\n",
            "Removed: 4\n",
            "Removed: 5\n",
            "Removed: 6\n",
            "Removed: 7\n",
            "Removed: 8\n",
            "Removed: 9\n",
            "Final list: []\n"
          ]
        }
      ]
    },
    {
      "cell_type": "markdown",
      "source": [
        "# 5. Describe the methods and tools available in Python for safely sharing data between threads and processes.\n",
        "Threads share the same memory space, which requires mechanisms to avoid conflicts or race conditions:\n",
        "\n",
        "* threading.Lock:\n",
        "\n",
        "A lock ensures that only one thread accesses a shared resource at a time.\n",
        "\n",
        "Example: Use with lock: for safe locking and unlocking.\n",
        "\n",
        "* threading.RLock (Reentrant Lock):\n",
        "\n",
        "Similar to Lock, but can be acquired multiple times by the same thread without blocking itself.\n",
        "\n",
        "* threading.Semaphore:\n",
        "\n",
        "Allows a specific number of threads to access a shared resource concurrently.\n",
        "\n",
        "* threading.Condition:\n",
        "\n",
        "Used for complex communication between threads, where one thread signals others to continue when specific conditions are met.\n",
        "\n",
        "* queue.Queue (Thread-safe Queue):\n",
        "\n",
        "Ideal for safely sharing data among threads.\n",
        "\n",
        "Internally uses locks for synchronization, removing the need for explicit locks.\n",
        "\n",
        "For Processes\n",
        "Processes have separate memory spaces, and data sharing is achieved through inter-process communication (IPC):\n",
        "\n",
        "* multiprocessing.Queue:\n",
        "\n",
        "A thread-safe, process-safe queue for sharing data between processes.\n",
        "\n",
        "* multiprocessing.Pipe:\n",
        "\n",
        "Allows two-way communication between processes.\n",
        "\n",
        "* multiprocessing.Value and multiprocessing.Array:\n",
        "\n",
        "These provide synchronized shared memory for single values or arrays, accessible across processes.\n",
        "\n",
        "* Manager (from multiprocessing.Manager):\n",
        "\n",
        "Provides a managed shared object such as dictionaries, lists, etc., that multiple processes can safely access.\n",
        "\n",
        "* Locks and Semaphores in the multiprocessing module:\n",
        "\n",
        "These work similarly to their threading counterparts but are designed for process-safe synchronization.\n",
        "\n",
        "Additional Notes\n",
        "* concurrent.futures:\n",
        "\n",
        "High-level interface for managing threads and processes via thread pools (ThreadPoolExecutor) and process pools (ProcessPoolExecutor).\n",
        "\n",
        "* Atomic Operations:\n",
        "\n",
        "Python’s Global Interpreter Lock (GIL) ensures atomicity for simple operations like appending to a list or incrementing a counter (but only for threads, not processes)."
      ],
      "metadata": {
        "id": "hIjFuvDgfmTe"
      }
    },
    {
      "cell_type": "markdown",
      "source": [
        "# Discuss why it’s crucial to handle exceptions in concurrent programs and the techniques available for doing so.\n",
        "Handling exceptions in concurrent programs is crucial because they help maintain the stability, reliability, and correctness of the application. In concurrent programming, multiple threads or processes run simultaneously, and exceptions can occur in any of them. If not managed properly, these exceptions may result in deadlocks, resource leaks, incomplete tasks, or even application crashes. Let’s dive deeper:\n",
        "\n",
        "Why Exception Handling Is Crucial in Concurrent Programs\n",
        "Avoid Deadlocks:\n",
        "\n",
        "If a thread or process holding a critical resource (like a lock) fails, other threads/processes may remain blocked indefinitely.\n",
        "\n",
        "Ensure Resource Cleanup:\n",
        "\n",
        "Properly handling exceptions allows you to release resources (e.g., locks, file handles, network connections) to prevent resource exhaustion.\n",
        "\n",
        "Prevent Application Crashes:\n",
        "\n",
        "Unhandled exceptions in one thread/process can propagate and crash the entire application or leave it in an inconsistent state.\n",
        "\n",
        "Maintain Task Integrity:\n",
        "\n",
        "Exception handling ensures that tasks complete successfully or recover gracefully, instead of leaving partial or incorrect results.\n",
        "\n",
        "Techniques for Handling Exceptions\n",
        "Try-Except Blocks:\n",
        "\n",
        "Enclose critical sections of code within a try-except block to catch and handle exceptions gracefully.\n",
        "\n",
        "Example:\n",
        "\n",
        "python\n",
        "try:\n",
        "    # Critical operation\n",
        "except Exception as e:\n",
        "    print(f\"An error occurred: {e}\")\n",
        "Logging Exceptions:\n",
        "\n",
        "Use logging libraries to record exceptions for debugging and monitoring purposes, rather than just printing them.\n",
        "\n",
        "Using Thread/Process Return Values:\n",
        "\n",
        "In concurrent.futures, the results of threads or processes can be retrieved using Future.result(). If an exception occurred, it’s raised when result() is called.\n",
        "\n",
        "Thread/Process Exception Handling:\n",
        "\n",
        "Use threading.Thread or multiprocessing.Process with exception handling logic inside the target function.\n",
        "\n",
        "Callbacks for Exception Handling:\n",
        "\n",
        "In libraries like concurrent.futures, set up callbacks to handle exceptions raised during task execution.\n",
        "\n",
        "Graceful Shutdown:\n",
        "\n",
        "Ensure that all threads/processes are properly stopped and resources are released during exceptions using finally blocks.\n",
        "\n",
        "Timeouts:\n",
        "\n",
        "To handle cases where tasks might hang indefinitely, use timeouts and manage exceptions for timed-out operations.\n",
        "\n",
        "Using Context Managers:\n",
        "\n",
        "Ensure proper cleanup by using context managers (e.g., with threading.Lock:), especially during exceptions.\n"
      ],
      "metadata": {
        "id": "QJcpChL8gvCg"
      }
    },
    {
      "cell_type": "code",
      "source": [
        "# 7. Create a program that uses a thread pool to calculate the factorial of numbers from 1 to 10 concurrently.\n",
        "# Use concurrent.futures.ThreadPoolExecutor to manage the threads.\n",
        "import concurrent.futures\n",
        "import math\n",
        "\n",
        "# Function to calculate factorial\n",
        "def calculate_factorial(n):\n",
        "    return f\"Factorial of {n} is {math.factorial(n)}\"\n",
        "\n",
        "# Main program\n",
        "if __name__ == \"__main__\":\n",
        "    numbers = range(1, 11)  # Numbers from 1 to 10\n",
        "\n",
        "    # Using ThreadPoolExecutor to manage threads\n",
        "    with concurrent.futures.ThreadPoolExecutor() as executor:\n",
        "        # Submit tasks to the thread pool\n",
        "        results = executor.map(calculate_factorial, numbers)\n",
        "\n",
        "    # Print results\n",
        "    for result in results:\n",
        "        print(result)"
      ],
      "metadata": {
        "id": "cs-M8-XQSKBO",
        "colab": {
          "base_uri": "https://localhost:8080/"
        },
        "outputId": "4fa5fd94-65fc-4ed1-8ea9-07b5f654dc4c"
      },
      "execution_count": null,
      "outputs": [
        {
          "output_type": "stream",
          "name": "stdout",
          "text": [
            "Factorial of 1 is 1\n",
            "Factorial of 2 is 2\n",
            "Factorial of 3 is 6\n",
            "Factorial of 4 is 24\n",
            "Factorial of 5 is 120\n",
            "Factorial of 6 is 720\n",
            "Factorial of 7 is 5040\n",
            "Factorial of 8 is 40320\n",
            "Factorial of 9 is 362880\n",
            "Factorial of 10 is 3628800\n"
          ]
        }
      ]
    },
    {
      "cell_type": "code",
      "source": [
        "# 8. Create a Python program that uses multiprocessing.Pool to compute the square of numbers from 1 to 10 in\n",
        "# parallel. Measure the time taken to perform this computation using a pool of different sizes (e.g., 2, 4, 8\n",
        "# processes).\n",
        "import multiprocessing\n",
        "import time\n",
        "\n",
        "# Function to compute the square of a number\n",
        "def compute_square(n):\n",
        "    return n * n\n",
        "\n",
        "# Function to measure computation time for a given pool size\n",
        "def measure_time(pool_size, numbers):\n",
        "    start_time = time.time()\n",
        "\n",
        "    # Create a pool of processes\n",
        "    with multiprocessing.Pool(pool_size) as pool:\n",
        "        # Compute squares in parallel\n",
        "        results = pool.map(compute_square, numbers)\n",
        "\n",
        "    end_time = time.time()\n",
        "\n",
        "    # Print results and time taken\n",
        "    print(f\"Pool size {pool_size}: Results = {results}, Time taken = {end_time - start_time:.5f} seconds\")\n",
        "\n",
        "# Main program\n",
        "if __name__ == \"__main__\":\n",
        "    numbers = list(range(1, 11))  # Numbers from 1 to 10\n",
        "\n",
        "    # Test with different pool sizes\n",
        "    for pool_size in [2, 4, 8]:\n",
        "        measure_time(pool_size, numbers)"
      ],
      "metadata": {
        "id": "4TSf4zxNSTq1",
        "colab": {
          "base_uri": "https://localhost:8080/"
        },
        "outputId": "b8db8010-c74d-45a6-9e59-f20275e078e3"
      },
      "execution_count": null,
      "outputs": [
        {
          "output_type": "stream",
          "name": "stdout",
          "text": [
            "Pool size 2: Results = [1, 4, 9, 16, 25, 36, 49, 64, 81, 100], Time taken = 0.03389 seconds\n",
            "Pool size 4: Results = [1, 4, 9, 16, 25, 36, 49, 64, 81, 100], Time taken = 0.04530 seconds\n",
            "Pool size 8: Results = [1, 4, 9, 16, 25, 36, 49, 64, 81, 100], Time taken = 0.07512 seconds\n"
          ]
        }
      ]
    },
    {
      "cell_type": "code",
      "source": [
        "print(\"Hello world!\")"
      ],
      "metadata": {
        "colab": {
          "base_uri": "https://localhost:8080/"
        },
        "id": "C4GbT2o0hrpL",
        "outputId": "dd268179-25bc-4ed7-8e7c-6a6e7c7e702c"
      },
      "execution_count": null,
      "outputs": [
        {
          "output_type": "stream",
          "name": "stdout",
          "text": [
            "Hello world!\n"
          ]
        }
      ]
    },
    {
      "cell_type": "code",
      "source": [
        "name=input(\"enter name:\")\n",
        "def greet(name):\n",
        "  return f\"hello {name}\"\n",
        "print(greet(name))"
      ],
      "metadata": {
        "colab": {
          "base_uri": "https://localhost:8080/"
        },
        "id": "isBDKhlViPYh",
        "outputId": "347bdd7b-29fd-4c95-c638-9fc6c330b3e5"
      },
      "execution_count": null,
      "outputs": [
        {
          "output_type": "stream",
          "name": "stdout",
          "text": [
            "enter name: hema\n",
            "hello  hema\n"
          ]
        }
      ]
    }
  ]
}